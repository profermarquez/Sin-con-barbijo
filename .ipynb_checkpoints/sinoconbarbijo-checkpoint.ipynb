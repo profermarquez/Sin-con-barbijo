{
 "cells": [
  {
   "cell_type": "code",
   "execution_count": 3,
   "id": "ce5e561e",
   "metadata": {},
   "outputs": [
    {
     "name": "stdout",
     "output_type": "stream",
     "text": [
      "modelo almacenado\n"
     ]
    }
   ],
   "source": [
    "#pip install opencv-python\n",
    "#pip install os-sys\n",
    "###\n",
    "import cv2\n",
    "import os\n",
    "import numpy as np\n",
    "dataPath= \"D:\\Escuelas\\Campus de Robotica\\ia\\Sin-con-barbijo\\Dataset_faces\"\n",
    "dir_list = os.listdir(dataPath)\n",
    "#print(\"Lista de archivos: \",dir_list)\n",
    "\n",
    "labels=[]\n",
    "facesData =[]\n",
    "label =0\n",
    "\n",
    "for name_dir in dir_list:\n",
    "    dir_path = dataPath + \"/\" +name_dir\n",
    "    \n",
    "    for file_name in os.listdir(dir_path):\n",
    "        image_path = dir_path +\"/\" + file_name\n",
    "        image=cv2.imread(image_path, 0)\n",
    "        facesData.append(image)\n",
    "        labels.append(label)\n",
    "    label+=1\n",
    "#print(\"Etiqueta 0: \",np.count_nonzero(np.array(labels)==0))\n",
    "#print(\"Etiqueta 1: \",np.count_nonzero(np.array(labels)==1))\n",
    "\n",
    "#LBPH pip install opencv-contrib-python\n",
    "face_mask =cv2.face.LBPHFaceRecognizer_create()\n",
    "#Entrenamiento\n",
    "face_mask.train(facesData, np.array(labels))\n",
    "#almacenamiento\n",
    "face_mask.write(\"face_mask_model.xml\")\n",
    "print(\"modelo almacenado\")\n",
    "\n"
   ]
  },
  {
   "cell_type": "code",
   "execution_count": null,
   "id": "26530de0",
   "metadata": {},
   "outputs": [],
   "source": [
    "import mediapipe as mp\n",
    "\n",
    "mp_face_detection = mp.solutions.face_detection\n",
    "LABELS = [\"Con_mascarilla\",\"Sin_mascarilla\"]\n",
    "#Leer modelo\n",
    "face_mask = cv2.face.LBPHFaceRecognizer_create()\n",
    "face_mask.read(\"face_mask_model.xml\")\n",
    "cap= cv2.VideoCapture(0, cv2.CAP_DSHOW)\n",
    "with mp_face_detection.FaceDetection(min_detection_confidence=0.5) as face_detection:\n",
    "    while True:\n",
    "        ret,frame=cap.read()\n",
    "        if ret==False:\n",
    "            break\n",
    "        frame=cv2.flip(frame,1)\n",
    "        cv2.imshow(\"Frame\",frame)\n",
    "        k=cv2.waitKey(1)\n",
    "        if k==27:\n",
    "            break\n",
    "cap.release()\n",
    "cv2.destroyAllWindows()"
   ]
  }
 ],
 "metadata": {
  "kernelspec": {
   "display_name": "Python 3 (ipykernel)",
   "language": "python",
   "name": "python3"
  },
  "language_info": {
   "codemirror_mode": {
    "name": "ipython",
    "version": 3
   },
   "file_extension": ".py",
   "mimetype": "text/x-python",
   "name": "python",
   "nbconvert_exporter": "python",
   "pygments_lexer": "ipython3",
   "version": "3.9.0"
  }
 },
 "nbformat": 4,
 "nbformat_minor": 5
}
